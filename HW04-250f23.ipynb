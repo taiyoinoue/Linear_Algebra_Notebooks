{
 "cells": [
  {
   "cell_type": "markdown",
   "id": "eb3835d7",
   "metadata": {
    "deletable": false,
    "editable": false
   },
   "source": [
    "# Homework 4\n",
    "In this notebook, we'll study:\n",
    "- vector spaces\n",
    "- subspaces\n",
    "- span\n",
    "- linear independence"
   ]
  },
  {
   "cell_type": "markdown",
   "id": "15f480b7",
   "metadata": {
    "deletable": false,
    "editable": false
   },
   "source": [
    "## Vector Spaces\n",
    "\n",
    "**Definition:** A **vector space** is a set $V$ equipped with a pair of operations called **addition** and **scalar multiplication**.  If $\\vec{u}, \\vec{v} \\in V$ and $r \\in \\mathbb{R}$, we denote addition by $\\vec{u} + \\vec{v}$ and scalar multiplication by $r \\cdot \\vec{u}$.  \n",
    "These operations satisfy the following conditions for all vectors $\\vec{u}, \\vec{v}, \\vec{w} \\in V$ and all scalars $r,s \\in \\mathbb{R}$:\n",
    "1. *Closure under addition*: $\\vec{u} + \\vec{v} \\in V$\n",
    "2. *Addition is associative*: $(\\vec{u} + \\vec{v}) + \\vec{w} = \\vec{u} + (\\vec{v} + \\vec{w})$\n",
    "3. *Addition is commutative*: $\\vec{u} + \\vec{v} = \\vec{v} + \\vec{u}$\n",
    "4. *Additive identity*: There is a vector $\\vec{0} \\in V$ so that $\\vec{0} + \\vec{u} = \\vec{u}$.\n",
    "5. *Additive inverse*: There is a vector $-\\vec{u}$ with the property that $\\vec{u} + (-\\vec{u}) = \\vec{0}$.\n",
    "6. *Closure under scalar multiplication*: $r \\cdot \\vec{u} \\in V$.\n",
    "7. *Associativity of scalar multiplication*: $r\\cdot (s\\cdot \\vec{u}) = (rs)\\cdot \\vec{u}$\n",
    "8. *Scalar multiplication distributes over vector addition*: $r\\cdot(\\vec{u} + \\vec{v}) = r\\cdot \\vec{u} + r\\cdot \\vec{v}$.\n",
    "9. *Scalar multiplication distributes over scalar addition*: $(r + s) \\cdot \\vec{u} = r\\cdot \\vec{u} + s\\cdot \\vec{u}$.\n",
    "10. *Scalar multiplicative identity*: $1 \\cdot \\vec{u} = \\vec{u}$.\n",
    "\n",
    "### Examples of vector spaces\n",
    "\n",
    "- The most important example is:\n",
    "$$\\mathbb{R}^n = \\left\\{ \\hspace{.2in} \\begin{bmatrix} x_1 \\\\ x_2 \\\\ \\vdots \\\\ x_n \\end{bmatrix} \\hspace{.2in}  \\middle| \\hspace{.2in} x_i \\in \\mathbb{R} \\hspace{.2in} \\right\\}$$ \n",
    "\n",
    "The addition and scalar multiplication are defined by:\n",
    "\n",
    "$$\\text{Addition: } \\hspace{.1in}  \\begin{bmatrix} x_1 \\\\ x_2 \\\\ \\vdots \\\\ x_n \\end{bmatrix} + \\begin{bmatrix} y_1 \\\\ y_2 \\\\ \\vdots \\\\ y_n \\end{bmatrix} = \\begin{bmatrix} x_1 + y_1 \\\\ x_2 + y_2 \\\\ \\vdots \\\\ x_n + y_n\\end{bmatrix}\\hspace{.4in} \\text{Scalar multiplication: } \\hspace{.1in} r \\cdot \\begin{bmatrix} x_1 \\\\ x_2 \\\\ \\vdots \\\\ x_n \\end{bmatrix} = \\begin{bmatrix} rx_1 \\\\ rx_2 \\\\ \\vdots \\\\ rx_n \\end{bmatrix}$$\n",
    "\n",
    "This example is important since it gives us some ways to visualize vector spaces.  For instance, $\\mathbb{R}^1$ is the familiar real line. $\\mathbb{R}^2$ can be visualized as the $xy$-plane.  And $\\mathbb{R}^3$ can be visualized as the familiar $xyz$-space."
   ]
  },
  {
   "cell_type": "markdown",
   "id": "cd96a3ff",
   "metadata": {
    "deletable": false,
    "editable": false
   },
   "source": [
    "## Problem 1 (16 points): \n",
    "Give a reason why the following sets together with operations are **not** vector spaces.  Please respond in complete English sentences.\n",
    "\n",
    "(a.) $$\\mathbb{Z}^n = \\left\\{ \\hspace{.2in} \\begin{bmatrix} x_1 \\\\ x_2 \\\\ \\vdots \\\\ x_n \\end{bmatrix} \\hspace{.2in}  \\middle| \\hspace{.2in} x_i \\in \\mathbb{Z} \\hspace{.2in} \\right\\}$$ \n",
    "where $\\mathbb{Z}$ denotes the integers $\\{\\dots, -3, -2, -1, 0, 1, 2, 3, \\dots \\}$.  Take the vector addition and scalar multiplication to be the usual operations.\n",
    "\n",
    "(b.) $$\\mathbb{R}^n_{\\geq 0} =  \\left\\{ \\hspace{.2in} \\begin{bmatrix} x_1 \\\\ x_2 \\\\ \\vdots \\\\ x_n \\end{bmatrix} \\hspace{.2in}  \\middle| \\hspace{.2in} x_i \\geq 0, x_i \\in \\mathbb{R} \\hspace{.2in} \\right\\}$$ \n",
    "Take the vector addition and scalar multiplication to be the usual operations.\n",
    "\n",
    "(c.) $$\\mathbb{R}^n_{\\geq 0} \\cup \\mathbb{R}^n_{\\leq 0}$$ where \n",
    "$$\\mathbb{R}^n_{\\geq 0} =  \\left\\{ \\hspace{.2in} \\begin{bmatrix} x_1 \\\\ x_2 \\\\ \\vdots \\\\ x_n \\end{bmatrix} \\hspace{.2in}  \\middle| \\hspace{.2in} x_i \\leq 0, x_i \\in \\mathbb{R} \\hspace{.2in} \\right\\}$$ \n",
    "The symbol $\\cup$ represents the union of the two sets.  So\n",
    "\n",
    "$$X \\cup Y$$\n",
    "\n",
    "is the collection of elements which either lie in $X$ or lie in $Y$.  Take the vector addition and scalar multiplication to be the usual operations.\n",
    "\n",
    "(d.) $\\mathbb{R}^n \\setminus \\{\\vec{x}\\}$\n",
    "where $\\vec{x}$ is any vector in $\\mathbb{R}^n$.  In other words, show that $\\mathbb{R}^n$ minus a single vector is not  vector space.\n"
   ]
  },
  {
   "cell_type": "markdown",
   "id": "e8aae126",
   "metadata": {
    "deletable": false,
    "editable": false
   },
   "source": [
    "## Subspaces\n",
    "\n",
    "Given a vector space $V$, a subspace $S$ is a subset $S \\subset V$ which, when it inherits the operations of addition and scalar multiplication from $V$, is itself a vector space.  For example, consider the following subset $S$ of $\\mathbb{R}^3$: \n",
    "$$S = \\left\\{ \\hspace{.2in} \\begin{bmatrix} x_1 \\\\ x_2 \\\\ 0 \\end{bmatrix} \\hspace{.2in} \\right\\} \\subset \\mathbb{R}^3$$\n",
    "This is a subspace.  To verify this rigorously, one would have to show that $S$ together with the notion of addition and scalar multiplication inherited from $\\mathbb{R}^3$ is itself a vector space.  This requires verifying all 10 of the vector space axioms.\n",
    "\n",
    "Fortunately, there is a nice shortcut:\n",
    "\n",
    "**Theorem:** A subset $S$ of a vector space $V$ is a subspace if and only if $S$ is closed under addition and closed under scalar multiplication.\n",
    "\n",
    "This theorem reduces the task of showing something is a subspace from checking all 10 axioms, down to just 2.  Namely closure under addition and scalar multiplication.\n",
    "\n",
    "We can also use this theorem to show that something is **not** a subspace.  For instance, consider\n",
    "\n",
    "$$S = \\left\\{  \\hspace{.2in} \\begin{bmatrix} 1 \\\\ 1 \\\\ 1 \\end{bmatrix} \\hspace{.2in} \\right\\} \\subset \\mathbb{R}^3$$\n",
    "\n",
    "This subset $S$ contains a single vector.  We can show that this is not a subspace by showing that it is not closed under vector addition.  Notice:\n",
    "\n",
    "$$ \\begin{bmatrix} 1 \\\\ 1 \\\\ 1 \\end{bmatrix} + \\begin{bmatrix} 1 \\\\ 1 \\\\ 1 \\end{bmatrix} = \\begin{bmatrix} 2 \\\\ 2 \\\\ 2 \\end{bmatrix} \\notin S$$\n",
    "which shows that $S$ is not closed under addition.  Therefore, $S$ is not a subspace.  Note also that it is easy to show that $S$ is not closed under scalar multiplication either, but you do not need to prove this to show that $S$ fails to be a subspace.  Showing that only one of the conditions fails to hold suffices."
   ]
  },
  {
   "cell_type": "markdown",
   "id": "c61fccd5",
   "metadata": {
    "deletable": false,
    "editable": false
   },
   "source": [
    "## Problem 2 (20 points)\n",
    "\n",
    "Determine whether the following subsets $\\mathbb{R}^3$ are subspaces or not.  \n",
    "- If you claim that something is a subspace, then please justify by using the above theorem.  To be clear, this means that you should show that the subset is closed under addition and scalar multiplication.  \n",
    "- If you claim that something is not a subspace, then show that it is not closed under addition or scalar multiplication. You can do this by showing a single counterexample as I did in the example above.\n",
    "\n",
    "(a.) $S_1 = \\left\\{ \\hspace{.2in} \\begin{bmatrix} 0 \\\\ 0 \\\\ 0 \\end{bmatrix} \\hspace{.2in} \\right\\}$\n",
    "\n",
    "(b.) $S_2 = \\left\\{ \\hspace{.2in} \\begin{bmatrix} x_1 \\\\ x_2 \\\\ x_3 \\end{bmatrix} \\hspace{.2in} \\middle | \\hspace{.2in} x_1 + x_2 + x_3 = 1 \\hspace{.2in} \\right\\}$\n",
    "\n",
    "(c.) $S_3 = \\left\\{ \\hspace{.2in} \\begin{bmatrix} x_1 \\\\ x_2 \\\\ x_3 \\end{bmatrix} \\hspace{.2in} \\middle | \\hspace{.2in} x_1 + x_2 + x_3 = 0 \\hspace{.2in} \\right\\}$\n",
    "\n",
    "(d.) $S_4 = \\left\\{ \\hspace{.2in} \\begin{bmatrix} x_1 \\\\ x_2 \\\\ x_3 \\end{bmatrix} \\hspace{.2in} \\middle | \\hspace{.2in} x_1 \\cdot x_2 \\cdot x_3 = 0 \\hspace{.2in} \\right\\}$\n",
    "\n",
    "(e.) $S_5 = \\left\\{ \\hspace{.2in} a_1 \\vec{v_1} + a_2 \\vec{v_2} \\hspace{.2in} | \\hspace{.2in} a_1, a_2 \\in \\mathbb{R} \\hspace{.2in} \\right\\}$ where $\\vec{v_1}, \\vec{v_2}$ are fixed vectors in $\\mathbb{R}^3$."
   ]
  },
  {
   "cell_type": "markdown",
   "id": "8789fb6a",
   "metadata": {
    "deletable": false,
    "editable": false
   },
   "source": [
    "## Problem 3 (12 points) \n",
    "\n",
    "We've learned that for a matrix $A$ of dimensions $m \\times n$, the nullspace of $A$, defined as:\n",
    "$$\\mathrm{nullspace}(A) = \\{ \\vec{v} \\in \\mathbb{R}^n \\,|\\, A\\vec{v} = \\vec{0} \\} $$\n",
    "is a subspace of $\\mathbb{R}^n$.  \n",
    "\n",
    "Use python to find the nullspace of $A = \\begin{bmatrix} 2 & 1 & 3 & 10 & 2 \\\\ 1 & 0 & 3 & 6 & 1 \\\\ 2 & 1 & 1 & 0 & 2 \\end{bmatrix}$"
   ]
  },
  {
   "cell_type": "markdown",
   "id": "619dcca1",
   "metadata": {
    "deletable": false,
    "editable": false
   },
   "source": [
    "## Span\n",
    "\n",
    "**Definition:** Suppose $\\vec{v_1}, \\vec{v_2}, \\dots, \\vec{v_k}$ are vectors in a vector space $V$.  Then a **linear combination** of these vectors is any vector of the form: \n",
    "$$\\sum_{i = 1}^k a_i \\vec{v_i} = a_1 \\vec{v_1} + a_2 \\vec{v_2} + \\dots + a_k \\vec{v_k}$$\n",
    "\n",
    "**Definition:** The span of a collection of vectors $T$, denoted $\\mathrm{Span(T)}$ or $[T]$,  is the set of all linear combinations of vectors in $T$.\n",
    "\n",
    "**Definition:** A vector $\\vec{v}$ is said to be **dependent** on a collection of vectors $T$ if $\\vec{v} \\in \\mathrm{Span}(T)$.\n",
    "\n",
    "**Example**  If $T = \\left\\{ \\hspace{.1in}  \\vec{v_1} = \\begin{bmatrix} 1 \\\\ 2 \\end{bmatrix}, \\hspace{.1in} \\vec{v_2} = \\begin{bmatrix} -4 \\\\ -8 \\end{bmatrix} \\hspace{.1in} \\right\\}$, then\n",
    "\n",
    "- $\\begin{bmatrix} 0 \\\\ 0 \\end{bmatrix}$ is dependent on $T$ since $\\begin{bmatrix} 0 \\\\ 0 \\end{bmatrix} = 0 \\cdot \\vec{v_1} + 0 \\cdot \\vec{v_2} \\in \\mathrm{Span}(T)$ .\n",
    "\n",
    "- $\\begin{bmatrix} 32 \\\\ 64 \\end{bmatrix}$ is dependent on $T$ since $\\begin{bmatrix} 32 \\\\ 64 \\end{bmatrix} = 32 \\cdot \\vec{v_1} + 0 \\cdot \\vec{v_2}$.  Notice also that: $\\begin{bmatrix} 32 \\\\ 64 \\end{bmatrix} = 0 \\cdot \\vec{v_1} - 8 \\cdot \\vec{v_2}$"
   ]
  },
  {
   "cell_type": "markdown",
   "id": "94bc220c",
   "metadata": {
    "deletable": false,
    "editable": false
   },
   "source": [
    "## Problem 4 (16 points)\n",
    "\n",
    "Let $T = \\left\\{ \\hspace{.2in} \\begin{bmatrix} 1 \\\\ 2 \\\\ 1 \\\\ -1 \\end{bmatrix} , \\begin{bmatrix} 0 \\\\ 5 \\\\ 2 \\\\ -3 \\end{bmatrix} , \\begin{bmatrix} 4 \\\\ 1 \\\\ 1 \\\\ -1 \\end{bmatrix} \\hspace{.2in} \\right\\} $.  Use python (if necessary) to determine whether the following vectors are in $\\mathrm{Span}(T)$.  If so, then express the given vector as a linear combination of the vectors in $T$. If not, then explain how your computation shows that it is not.\n",
    "\n",
    "(a.) $\\begin{bmatrix} 1 \\\\ 2 \\\\ 1 \\\\ -1 \\end{bmatrix} $\n",
    "\n",
    "(b.) $\\begin{bmatrix} 0 \\\\ 0 \\\\ 0 \\\\ 0 \\end{bmatrix} $\n",
    "\n",
    "(c.) $\\begin{bmatrix} -5 \\\\ 29 \\\\ 11 \\\\ -16 \\end{bmatrix} $\n",
    "\n",
    "(d.) $\\begin{bmatrix} 5 \\\\ 6 \\\\ 5 \\\\ 6 \\end{bmatrix} $"
   ]
  },
  {
   "cell_type": "code",
   "execution_count": 1,
   "id": "456cbf42",
   "metadata": {},
   "outputs": [
    {
     "data": {
      "text/plain": [
       "(Matrix([\n",
       " [1, 0, 0,  3],\n",
       " [0, 1, 0,  5],\n",
       " [0, 0, 1, -2],\n",
       " [0, 0, 0,  0]]),\n",
       " (0, 1, 2))"
      ]
     },
     "execution_count": 1,
     "metadata": {},
     "output_type": "execute_result"
    }
   ],
   "source": [
    "import numpy as np\n",
    "import sympy as sp\n",
    "A = np.array([[1, 2, 1, -1], [0, 5, 2, -3], [4, 1, 1, -1], [-5, 29, 11, -16]]).T\n",
    "A_rref = sp.Matrix(A).rref()\n",
    "A_rref"
   ]
  },
  {
   "cell_type": "markdown",
   "id": "076f8ef5",
   "metadata": {
    "deletable": false,
    "editable": false
   },
   "source": [
    "## Linear Independence\n",
    "\n",
    "**Definition:** A collection of vectors $\\vec{v_1}, \\vec{v_2}, \\dots, \\vec{v_k}$ is said to be **linearly independent** is no vector in the collection is dependent on the others.\n",
    "\n",
    "It turns out this definition is equivalent to the following, more useful definition:\n",
    "\n",
    "\n",
    "**Another Definition:** A collection of vectors $\\vec{v_1}, \\vec{v_2}, \\dots, \\vec{v_k}$ is said to be **linearly independent** if the only linear combination of these equal to the zero vector $\\vec{0}$ is the trivial one where are coefficients are 0.  \n",
    "\n",
    "**Definition:** A collection of vectors which is not linearly independent is said to be **linearly dependent**."
   ]
  },
  {
   "cell_type": "markdown",
   "id": "a6eab138",
   "metadata": {
    "deletable": false,
    "editable": false
   },
   "source": [
    "## Problem 5 (12 points)\n",
    "\n",
    "Consider the following procedure for checking if a collection of vectors in $\\mathbb{R}^n$ is linearly independent or not.  \n",
    "- Label the collection of vectors $T = \\{ \\vec{c_1}, \\vec{c_2}, \\dots, \\vec{c_k} \\} \\subset \\mathbb{R}^n $.  \n",
    "- Create a matrix $A$ whose columns are the vectors in $T$:\n",
    "$$ A = \\begin{bmatrix} \\vec{c_1} | \\vec{c_2} | \\dots | \\vec{c_k} \\end{bmatrix} $$\n",
    "- Compute $A_{\\mathrm{rref}}$, the row reduced echelon form of $A$.\n",
    "- If every column of $A_{\\mathrm{rref}}$ is a pivot column, then $T$ is a linearly independent collection of vectors.\n",
    "\n",
    "Explain why this procedure works.  \n",
    "\n",
    "**Hint:**  Recall that if $\\vec{x} = \\begin{bmatrix} x_1 \\\\ x_2 \\\\ \\vdots \\\\ x_k \\end{bmatrix}$, then $A \\vec{x} = x_1 \\vec{c_1} + x_2 \\vec{c_2} + \\dots x_k \\vec{c_k}$.  Now consider solving the equation $A \\vec{x} = \\vec{0}$."
   ]
  },
  {
   "cell_type": "markdown",
   "id": "befa1f19",
   "metadata": {
    "deletable": false,
    "editable": false
   },
   "source": [
    "## Problem 6 (24 points)\n",
    "\n",
    "Determine whether the following collections of vectors in $\\mathbb{R}^3$ are linearly independent or linearly dependent.  Justify your answer.  You can use numpy to support your argument, but you must give me a complete English sentence for justification to receive credit. \n",
    "\n",
    "\n",
    "(a.) $ \\left\\{ \\hspace{.2in} \\begin{bmatrix} 0 \\\\ 2 \\\\ 4 \\end{bmatrix} \\hspace{.2in} \\right\\}$\n",
    "\n",
    "(b.) $ \\left\\{ \\hspace{.2in} \\begin{bmatrix} 0 \\\\ 0 \\\\ 0 \\end{bmatrix} \\hspace{.2in} \\right\\}$\n",
    "\n",
    "(c.) $ \\left\\{ \\hspace{.2in} \\begin{bmatrix} 0 \\\\ 0 \\\\ 0 \\end{bmatrix}, \\begin{bmatrix} 0 \\\\ 2 \\\\ 4 \\end{bmatrix} \\hspace{.2in} \\right\\}$\n",
    "\n",
    "(d.) Any collection of vectors that contain the zero vector.\n",
    "\n",
    "(e.) $ \\left\\{ \\hspace{.2in} \\begin{bmatrix} 1 \\\\ 0 \\\\ 0 \\end{bmatrix}, \\begin{bmatrix} 0 \\\\ 2 \\\\ 4 \\end{bmatrix} \\hspace{.2in} \\right\\}$\n",
    "\n",
    "(f.) $ \\left\\{ \\hspace{.2in} \\begin{bmatrix} 1 \\\\ 0 \\\\ 0 \\end{bmatrix}, \\begin{bmatrix} 0 \\\\ 2 \\\\ 4 \\end{bmatrix}, \\begin{bmatrix} -1 \\\\ -1 \\\\ -1 \\end{bmatrix}  \\hspace{.2in} \\right\\}$\n",
    "\n",
    "(g.) $ \\left\\{ \\hspace{.2in} \\begin{bmatrix} 1 \\\\ 0 \\\\ 0 \\end{bmatrix}, \\begin{bmatrix} 0 \\\\ 2 \\\\ 4 \\end{bmatrix}, \\begin{bmatrix} -1 \\\\ -1 \\\\ -1 \\end{bmatrix},   \\begin{bmatrix} 1 \\\\ 2 \\\\ 3 \\end{bmatrix} \\hspace{.2in} \\right\\}$\n",
    "\n",
    "(h.) Any collection of four or more vectors in $\\mathbb{R}^3$."
   ]
  },
  {
   "cell_type": "markdown",
   "id": "779071a8",
   "metadata": {
    "deletable": false,
    "editable": false
   },
   "source": [
    "## Extra Credit Problem (5 points)\n",
    "\n",
    "Write a function `is_linearly_independent()` which accepts a list of vectors from $\\mathbb{R}^n$ as input, and returns `True` if the input is a collection of linearly independent vectors, and `False` otherwise.  This function should also return `False` if the vectors are not the same size.\n",
    "\n",
    "So, if I declare:\n",
    "\n",
    "`X = [np.array([[0], [0], [0]]), np.array([[0], [2], [4]])]`\n",
    "\n",
    "then `is_linearly_independent(X)` should return `False.`\n",
    "\n",
    "And if I declare:\n",
    "\n",
    "`Y = [np.array([[1], [0], [0]]), np.array([[0], [2], [4]])]`\n",
    "\n",
    "then `is_linearly_independent(Y)` should return `True.`\n",
    "\n",
    "And if I declare: \n",
    "\n",
    "`Z = [np.array([[1], [0], [0]]), np.array([[0], [2], [4], [7]])]`\n",
    "\n",
    "then `is_linearly_independent(Y)` should return `False.`"
   ]
  }
 ],
 "metadata": {
  "celltoolbar": "Edit Metadata",
  "kernelspec": {
   "display_name": "Python 3",
   "language": "python",
   "name": "python3"
  },
  "language_info": {
   "codemirror_mode": {
    "name": "ipython",
    "version": 3
   },
   "file_extension": ".py",
   "mimetype": "text/x-python",
   "name": "python",
   "nbconvert_exporter": "python",
   "pygments_lexer": "ipython3",
   "version": "3.8.8"
  }
 },
 "nbformat": 4,
 "nbformat_minor": 5
}
