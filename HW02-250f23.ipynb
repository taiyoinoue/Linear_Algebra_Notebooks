{
 "cells": [
  {
   "cell_type": "markdown",
   "id": "eb674af8",
   "metadata": {
    "deletable": false,
    "editable": false
   },
   "source": [
    "# Homework #2\n",
    "\n",
    "## More on Linear Systems\n",
    "\n",
    "A linear system in $n$ variables and $m$ equations takes the form:\n",
    "\n",
    "$$\\begin{align}\n",
    "a_{11}x_1 + a_{12}x_2 + \\dots + a_{1n}x_n &= d_1 \\\\\n",
    "a_{21}x_1 + a_{22}x_2 + \\dots + a_{2n}x_n &= d_2 \\\\\n",
    "\\vdots \\hspace{1.3in}  &\\vdots \\\\\n",
    "a_{m1}x_1 + a_{m2}x_2 + \\dots + a_{mn}x_n &= d_m \\\\\n",
    "\\end{align}\n",
    "$$\n",
    "\n",
    "A linear system is said to be **homogeneous** if all $d_i$ are 0.  It is **non-homogeneous** otherwise.  We call a linear system **inconsistent** if it has no solutions.\n",
    "\n",
    "If a linear system is non-homogeneous, then the **associated homogeneous system** is the one in which all the $d_i$ are set equal to 0."
   ]
  },
  {
   "cell_type": "markdown",
   "id": "7ca163e9",
   "metadata": {
    "deletable": false,
    "editable": false
   },
   "source": [
    "## Problem 1 (5 points)\n",
    "\n",
    "Can a homogeneous system be inconsistent?  Explain your answer."
   ]
  },
  {
   "cell_type": "markdown",
   "id": "769e280b",
   "metadata": {
    "deletable": false,
    "editable": false
   },
   "source": [
    "## Problem 2 (10 points) \n",
    "\n",
    "Suppose that $\\overrightarrow{p} = (p_1, p_2, \\dots, p_n)$ and $\\overrightarrow{q} = (q_1, q_2, \\dots, q_n)$ are two solutions (not necessarily distinct) to the above linear system.  Then show that $\\overrightarrow{q} - \\overrightarrow{p} = (q_1 - p_1, q_2 - p_2, \\dots, q_n - p_n)$ is a solution to the associated homogeneous system.  \n",
    "\n",
    "(Hint: consider the $i$th equation in the above system where $i$ is any integer between 1 and $m$.  Plug in $x_1 = q_1 - p_1, x_2 = q_2 - p_2, ... x_n = q_n - p_n$ on the left side, and show you get 0.)"
   ]
  },
  {
   "cell_type": "markdown",
   "id": "a2d7aeef",
   "metadata": {
    "deletable": false,
    "editable": false
   },
   "source": [
    "## General = Particular + Homogeneous\n",
    "\n",
    "For a linear system, a **particular solution** is any single solution $\\overrightarrow{p}$ to the system. The **homogeneous solution** is the set of all solutions to the associated homogeneous system. \n",
    "\n",
    "**Theorem:** Fix a particular solution $\\overrightarrow{p}$ of a linear system.  Then every solution to the linear system can be expressed as $\\overrightarrow{p} +\\overrightarrow{h}$ where $\\overrightarrow{h}$ is a solution to the associated homogeneous system.\n",
    "\n",
    "**Proof:** Suppose $\\overrightarrow{q}$ is any particular solution.  Then by problem 2 above, we know $\\overrightarrow{h} = \\overrightarrow{q} - \\overrightarrow{p}$ is a solution to the homogeneous system. Now add $\\overrightarrow{p}$ to both sides."
   ]
  },
  {
   "cell_type": "markdown",
   "id": "8e3385b5",
   "metadata": {
    "deletable": false,
    "editable": false
   },
   "source": [
    "\n",
    "## More on matrices\n",
    "\n",
    "### Some vocabulary\n",
    "\n",
    "Let's learn some of the vocabulary that is used when talking about matrices.  We'll apply our vocabulary to the \n",
    "following example: \n",
    "\n",
    "$$A = \\begin{bmatrix} 0 & 1 & 3 & -1 \\\\ 0 & 0 & 2 & 8 \\\\ -2 & 5 & 6 & 9 \\end{bmatrix} $$\n",
    "\n",
    "- Matrices are frequently denoted using an upper-case roman letter -- in this case, we've used $A$.\n",
    "- This matrix has 3 **rows** and 4 **columns**, so we say it is a $3 \\times 4$ matrix -- these are the **dimensions** or **shape** of the matrix.  \n",
    "- Rows are indexed from top to bottom, and columns are indexed from left to right.  So the first row of $A$ is $\\begin{bmatrix} 0 & 1 & 3 & -1 \\end{bmatrix}$, and the second column of $A$ is $\\begin{bmatrix} 1 \\\\ 0 \\\\ 5 \\end{bmatrix}$.\n",
    "- The numbers in the matrix are referred to as its **entries**. Since the name of our matrix is $A$, we denote the entries as $a_{ij}$ -- note the use of the lower-case version of the matrix's name. The subscripts $i$ and $j$ refer to the row and column respectively.  So, for example, the following statements are true:\n",
    "$$a_{12} = 1, \\hspace{.2in} a_{21} = 0, \\hspace{.2in} a_{33} = 6, \\hspace{.2in} a_{44} \\text{ is undefined}$$\n",
    "    - One important note: python starts indices at 0.  So the top left entry in a matrix is located at row 0, column 0 according to python's indexing convention.  In class, we'll continue to say that this entry is located at row 1, column 1.\n",
    "- A row's **leading entry** is the first non-zero entry in the row.  So, for example, the leading entry of the first row is $a_{12} = 1$ while the leading entry of the second row is $a_{23} = 2$.\n",
    "- All matrices are rectangular, but not all matrices are **square**.  A square matrix is one with the same number of columns as rows.\n",
    "- The **transpose** of a matrix $A$ is another matrix, denoted $A^t$ which swaps the rows and columns.  So for our matrix $A$, the transpose is:\n",
    "$$A^t = \\begin{bmatrix} 0 & 0 & -2 \\\\ 1 & 0 & 5 \\\\ 3 & 2 & 6 \\\\ -1 & 8 & 9 \\end{bmatrix} $$\n",
    "\n"
   ]
  },
  {
   "cell_type": "markdown",
   "id": "8479cacb",
   "metadata": {
    "deletable": false,
    "editable": false
   },
   "source": [
    "## Problem 3 (9pts) \n",
    "\n",
    "Consider the following matrix:\n",
    "\n",
    "$$B = \\begin{bmatrix} 3 & 2 & 1 & 7 \\\\ -3 & 5 & 9 & 0 \\end{bmatrix}$$\n",
    "\n",
    "Answer the following questions in a markdown cell below this one:\n",
    "\n",
    "1. What are the dimensions of $B$?\n",
    "2. What is $b_{21}$?  What is $b_{12}$?\n",
    "3. Find $B^t$.  "
   ]
  },
  {
   "cell_type": "markdown",
   "id": "d2aed612",
   "metadata": {
    "deletable": false,
    "editable": false
   },
   "source": [
    "### Row reduced echelon form\n",
    "- A matrix is in **row echelon form** if:\n",
    "    - Rows of all zeros are at the bottom of the matrix.\n",
    "    - Leading entries of rows are to the right of leading entries of the rows above it, except for the first row.\n",
    "- When a matrix is in row echelon form, leading entries are called **pivots**.  Columns that contain pivots are called **pivot columns**.\n",
    "- A matrix is in **reduced row echelon form** (rref) if:\n",
    "    - it is in row ecehlon form,\n",
    "    - pivot entries are all 1,\n",
    "    - all entries in pivot columns except for the pivot itself are 0."
   ]
  },
  {
   "cell_type": "markdown",
   "id": "819b33b0",
   "metadata": {
    "deletable": false,
    "editable": false
   },
   "source": [
    "## Problem 4 (10 points)\n",
    "\n",
    "In a markdown cell below this one, write a matrix $C$ which satisfies all of the following conditions:\n",
    "- $C$ is a $2 \\times 5$ matrix,\n",
    "- $C$ is in row reduced echelon form,\n",
    "- the second and fourth columns are pivot columns.\n",
    "\n",
    "(Note: there are many possible correct answers for this problem)"
   ]
  },
  {
   "cell_type": "markdown",
   "id": "db208208",
   "metadata": {
    "deletable": false,
    "editable": false
   },
   "source": [
    "### Square matrices\n",
    "There are some vocabulary that apply only to square matrices.  \n",
    "- A square matrix $A$ is said to be **symmetric** if $A^t = A$.\n",
    "    - Example: $\\begin{bmatrix} 2 & 3 \\\\ 3 & 2 \\end{bmatrix}$, $\\begin{bmatrix} 0 & 0 \\\\ 0 & 0 \\end{bmatrix}$, $\\begin{bmatrix} 0 & 1 \\\\ 1 & 0 \\end{bmatrix}$ are all symmetric matrices.\n",
    "    - Non-example: $\\begin{bmatrix} 0 & -1 \\\\ 1 & 0 \\end{bmatrix}$, $\\begin{bmatrix} 1 & 0 \\\\ 0 & 1 \\\\ 0 & 0 \\end{bmatrix}$ are not symmetric.\n",
    "- The **main diagonal** of a square matrix are those entries of the matrix whose row index is equal to the column index.\n",
    "    - Example: The main diagonal of the matrix $C = \\begin{bmatrix} 1 & 2 \\\\ 3 & 4 \\end{bmatrix}$ is $c_{11} = 1$ and $c_{22} = 4$.\n",
    "- A square matrix is said to be **upper triangular** if all entries below the main diagonal are 0.  Another way to say this is that a matrix $A$ is upper triangular if $a_{ij} = 0$ whenever $i > j$. \n",
    "- A square matrix is said to be **lower triangular** if all entries above the main diagonal are 0.  Another way to say this is that a matrix $A$ is lower triangular if $a_{ij} = 0$ whenever $i < j$.\n",
    "- A square matrix is said to be **diagonal** if all entries not on the main diagonal are 0.  Another way to say this is that a matrix $A$ is diagonal if $a_{ij} = 0$ whenver $i \\neq j$.\n",
    "- The **trace** of a square matrix is the sum of the diagonal entries.\n",
    "- A square matrix is **nonsingular** if it is the matrix of coefficients with only the trivial solution.  Otherwise, it is **singular**."
   ]
  },
  {
   "cell_type": "markdown",
   "id": "33e8b237",
   "metadata": {
    "deletable": false,
    "editable": false
   },
   "source": [
    "## Problem 5 (6 points)\n",
    "\n",
    "True or false: Diagonal matrices are symmetric.  Explain."
   ]
  },
  {
   "cell_type": "markdown",
   "id": "79d43cb0",
   "metadata": {
    "deletable": false,
    "editable": false
   },
   "source": [
    "## Writing functions in python\n",
    "\n",
    "Let's write a python function which will detect if a matrix is square.  The function will accept a numpy array as input, and output 'TRUE' if the matrix is square, and output 'FALSE' if the matrix is not-square."
   ]
  },
  {
   "cell_type": "code",
   "execution_count": 1,
   "id": "d58d01be",
   "metadata": {
    "deletable": false,
    "editable": false
   },
   "outputs": [],
   "source": [
    "import numpy as np\n",
    "import sympy as sp\n",
    "\n",
    "def is_square(array):\n",
    "    number_of_rows = np.shape(array)[0]\n",
    "    number_of_cols = np.shape(array)[1]\n",
    "    if number_of_rows == number_of_cols:\n",
    "        return True\n",
    "    else:\n",
    "        return False"
   ]
  },
  {
   "cell_type": "code",
   "execution_count": null,
   "id": "f9c896f8",
   "metadata": {},
   "outputs": [],
   "source": [
    "is_square(A)"
   ]
  },
  {
   "cell_type": "markdown",
   "id": "eddb10bf",
   "metadata": {
    "deletable": false,
    "editable": false
   },
   "source": [
    "You should see line numbers just to the left of the code in the above cell.  If you do not, click on the cell and press, press 'Esc' to get into command mode, then 'Shift-L' to get line numbers.\n",
    "\n",
    "Notice the indenting of the code above.  Python uses indentation extensively to indicate blocks of code.  You must be uniform in your use of indentation.  I personally use 'Tab' to achieve my indents.  Other people use spaces.  It's up to you.\n",
    "\n",
    "- The first two lines of this program just import the numpy and sympy modules as usual.\n",
    "- Line 4 is where the function begins.  The function, when invoked, will run a block of code.  In this case, the function we are writing is called `is_square()`.  It accepts an object `array` as input.  \n",
    "- The keyword `def` is what tells python that a function is about to be defined.  Note the colon at the end of line 4.  This is not optional and often forgotten!\n",
    "- Lines 5 and 6 both use the assignment operator '='.  I know it looks like an equal sign, but, in fact, it plays a different role in python (and many other programming languages). It assigns the thing on the right to the thing on the left. So, for instance, the code:\n",
    "```\n",
    "a = 1\n",
    "a = 2\n",
    "print(a)\n",
    "```\n",
    "will print 2 -- the first line assigned the variable `a` the value 1, the second line assigned the variable `a` the value 2, and the third line printed the value of `a`.\n",
    "- Note the use of the `np.shape()` command in lines 5 and 6.  This returns a list of the rows and columns of `array`. The elements of the list can be accessed using `[]` and the list index.  So then `np.shape(array)[0]` returns the first entry of this list which is the number of rows, while `np.shape(array)[1]` returns the second entry of this list which is the number of columns (recall, indexes in python start at 0).\n",
    "- Line 7 is an `if` statement.  The code that follows it on Line 8 will only run if the condition following the keyword `if` is true.  In this case, the condition is `number_of_rows == number_of_cols`.  Note the double equals sign.  This condition is true if the number of rows is equal to the number of columns, and so it is true when the matrix is square.  \n",
    "- Notice the colon at the end of the `if` statement.\n",
    "- Line 9 is an `else` statement. The code that follows it runs if the condition following the `if` statement is not true.\n",
    "- Line 8 and 10 involve the keyword `return`.  This tells python what the output of the function is.\n",
    "- The keywords `True` and `False` are values in python, not unlike numbers or strings.  They are called **Boolean** values named after a famous logician George Boole."
   ]
  },
  {
   "cell_type": "markdown",
   "id": "0bcb1a4e",
   "metadata": {
    "deletable": false,
    "editable": false
   },
   "source": [
    "## Problem 6 (5 points)\n",
    "\n",
    "Once a function is declared, it can be used anywhere within a notebook.  Run the above code to declare `is_square()`.  Then run this function on the matrices \n",
    "`np.zeros(3,3)`\n",
    "`np.zeros(3,4)` \n",
    "to see if the function works as expected."
   ]
  },
  {
   "cell_type": "markdown",
   "id": "f0e59bcf",
   "metadata": {
    "deletable": false,
    "editable": false
   },
   "source": [
    "## Nonsingular matrices\n",
    "\n",
    "Recall that a square matrix is nonsingular if the homogeneous linear system it corresponds to has only the trivial solution.  For instance, the homogeneous system:\n",
    "\n",
    "$$\\begin{align} x &= 0 \\\\ y &= 0 \\\\ z &= 0 \\end{align}$$\n",
    "\n",
    "corresponding to the matrix \n",
    "\n",
    "$$\\begin{bmatrix} 1 & 0 & 0 \\\\ 0 & 1 & 0 \\\\ 0 & 0 & 1 \\end{bmatrix}$$\n",
    "\n",
    "clearly has only the trivial solution $(0, 0, 0)$. Therefore, we call the above matrix nonsingular. Note: the above matrix is special -- it is called the $3 \\times 3$ **identity matrix**. \n",
    "\n"
   ]
  },
  {
   "cell_type": "markdown",
   "id": "6e1147e0",
   "metadata": {
    "deletable": false,
    "editable": false
   },
   "source": [
    "## Problem 7 (10 points)\n",
    "\n",
    "Is the matrix $$\\begin{bmatrix} 1 & 1 & 1 \\\\ 2 & 1 & -1 \\\\ -2 & 1 & 7 \\end{bmatrix}$$ singular or non-singular? (Hint: solve the homogenous system to see if there are any non-trivial solutions.  Advice: use python)"
   ]
  },
  {
   "cell_type": "markdown",
   "id": "a5d6b3f0",
   "metadata": {
    "deletable": false,
    "editable": false
   },
   "source": [
    "## Density of nonsingular matrices\n",
    "\n",
    "Just how common are nonsingular matrices?  In the next few problems, we will use numpy and sympy to investigate this question.  \n",
    "\n",
    "First, let's learn how to generate matrices whose entries are random -- so-called **random matrices**.  For this, we can use the command \n",
    "`np.random.rand(m,n)` \n",
    "to create a matrix with random entries between 0 and 1, with $m$ rows and $n$ columns.  \n",
    "\n",
    "This will be useful for investigating our question since by generating lots of random matrices, and seeing what proportion ofthem are nonsingular, we can get a good sense for how common nonsingular ones are."
   ]
  },
  {
   "cell_type": "markdown",
   "id": "229aa544",
   "metadata": {
    "deletable": false,
    "editable": false
   },
   "source": [
    "## Problem 8 (5 points)\n",
    "In a code cell below this one, create a random matrix, store it in the variable `A`.  Compute the row reduced echelon form of `A` and store the result in `A_rref`.  "
   ]
  },
  {
   "cell_type": "markdown",
   "id": "37f765ea",
   "metadata": {
    "deletable": false,
    "editable": false
   },
   "source": [
    "If you look carefully, you will notice that `A_rref` is, in fact, a list of 2 elements. `A_rref[0]` is the matrix `A`'s row reduced echelon form.  `A_rref[1]` is the list of column indices where the pivots lie."
   ]
  },
  {
   "cell_type": "markdown",
   "id": "1386fb1e",
   "metadata": {
    "deletable": false,
    "editable": false
   },
   "source": [
    "## Problem 9 (10 points)\n",
    "\n",
    "Here is a theorem which will help us:\n",
    "\n",
    "**Theorem:** Consider an $n\\times n$ matrix $A$, and denote its row reduced echelon form $A_{\\text{rref}}$.  Then $A$ is nonsingular if the number of pivot columns in $A_{\\text{rref}}$ is $n$.\n",
    "\n",
    "Explain in your own words why this theorem is true.\n"
   ]
  },
  {
   "cell_type": "markdown",
   "id": "5fe0e9db",
   "metadata": {},
   "source": [
    "## Problem 10 (25 points)\n",
    "\n",
    "We can use the above theorem to our advantage to build a function `is_nonsingular()` which will tell us if a matrix is nonsingular or not.  To see if an $n\\times n$ matrix is nonsingular, compute its row reduced echelon form, then see if the number of pivot columns is $n$.  \n",
    "\n",
    "We can obtain the indices of the pivot columns as a list by using `A_rref[1]` as discussed earlier.  And we can get the number of pivot columns by using `len(A_rref[1])` which computes the length of the list.\n",
    "\n",
    "Using these ideas, please write the function `is_nonsingular()`.  It should accept a numpy matrix as input.  It should output `True` if the matrix is nonsingular, and `False` if the matrix is singular, or if the matrix is not square.\n",
    "\n",
    "I've started the code for you in the code cell directly below.  Please finish it."
   ]
  },
  {
   "cell_type": "code",
   "execution_count": null,
   "id": "7f3d85c8",
   "metadata": {
    "deletable": false
   },
   "outputs": [],
   "source": [
    "def is_nonsingular(A):\n",
    "    if is_square(A) == False:\n",
    "        return False"
   ]
  },
  {
   "cell_type": "markdown",
   "id": "57471917",
   "metadata": {
    "deletable": false,
    "editable": false
   },
   "source": [
    "## Problem 11 (5 points)\n",
    "\n",
    "One of the neat things about using a computer is that you can do a thing 100s, 1000s, or even millions of times.  \n",
    "\n",
    "Now that we have `is_nonsingular()`, we can use a **for loop** to test many many random matrices to see if they are nonsingular.  For example, if we want to do a for loop which will print `hello` 20 times, we can do:\n",
    "```\n",
    "for i in range(20):\n",
    "    print('hello')\n",
    "```\n",
    "And if we want to test if 100 randomly generated $3 \\times 3$ matrices are nonsingular or not, we can do:\n",
    "```\n",
    "for i in range(100):\n",
    "    print(is_nonsingular(np.random.rand(3,3)))\n",
    "```\n",
    "Please run this for loop.  What does it suggest to you about how common nonsingular matrices are?"
   ]
  },
  {
   "cell_type": "code",
   "execution_count": null,
   "id": "b69406df",
   "metadata": {},
   "outputs": [],
   "source": [
    "counter = 0\n",
    "\n",
    "for i in range(100000):\n",
    "    if is_nonsingular(np.random.rand(3,3)) == True:\n",
    "        counter = counter + 1\n",
    "        \n",
    "counter/1000000"
   ]
  }
 ],
 "metadata": {
  "celltoolbar": "Edit Metadata",
  "kernelspec": {
   "display_name": "Python 3 (ipykernel)",
   "language": "python",
   "name": "python3"
  },
  "language_info": {
   "codemirror_mode": {
    "name": "ipython",
    "version": 3
   },
   "file_extension": ".py",
   "mimetype": "text/x-python",
   "name": "python",
   "nbconvert_exporter": "python",
   "pygments_lexer": "ipython3",
   "version": "3.9.13"
  }
 },
 "nbformat": 4,
 "nbformat_minor": 5
}
