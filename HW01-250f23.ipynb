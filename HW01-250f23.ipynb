{
 "cells": [
  {
   "cell_type": "markdown",
   "id": "4f6e5a0b",
   "metadata": {
    "deletable": false
   },
   "source": [
    "# Homework 1 \n",
    "\n",
    "<div class=\"alert alert-block alert-info\">\n",
    "\n",
    "In this homework set, we will learn several skills:\n",
    "\n",
    "1. How to use Jupyter notebooks to not just run code, but also present text enriched by links, images, videos, etc.\n",
    "2. Convert linear systems of equations into matrix equations.\n",
    "3. Learn to use numpy and sympy together to solve linear systems.\n",
    "\n",
    "</div>    \n",
    "\n",
    "<div class = \"alert alert-block alert-info\">\n",
    "\n",
    "## Jupyter notebook basics\n",
    "\n",
    "### Cells\n",
    "\n",
    "Jupyter notebooks are made of **cells**. You are currently reading the contents of a cell.  You can create a cell below this cell by pressing 'Esc' to ensure that the vertical bar on the left of the cell is blue, then pressing 'b' (which stands for \"below\"). You can also create a cell above this cell by pressing 'a'.  You can delete a cell by pressing 'dd' (two d's).  You can undo an action by pressing 'z'.  (I've locked this cell so that it cannot be deleted or edited).\n",
    "\n",
    "Cells can be run by pressing 'Shift' and 'Enter' at the same time. Note that this moves the cursor to the next cell below, creating a cell if you're at the bottom of the notebook.  If you want to stay inside the cell, use 'Ctrl-Enter'.\n",
    "\n",
    "If keyboards make you uncomfortable, you can also use your mouse to accomplish all the above functions.\n",
    "\n",
    "#### Cell Types\n",
    "Cells can be of one of two types.  They can be either a *markdown* cell, or a *code* cell.  You are currently looking at a markdown cell. When a cell is created, it is, by default, a code cell.  You can make it a markdown cell by pressing 'm' or by using the dropdown menu above.\n",
    "\n",
    "#### Markdown\n",
    "If you double click this markdown cell, or if you press 'Enter' while in this cell, you can see that \"behind the scenes\" markdown cells are really just plain text.  \"Markdown\" is a sort of simple typesetting language which converts plain text into fancy text. Notice how I was able to generate enumerated lists, section headers, bolded texts, and italicized texts also using plain text.\n",
    "\n",
    "Here is a link to an external site with a simple markdown cheatsheet: __[link](https://www.ibm.com/docs/en/watson-studio-local/1.2.3?topic=notebooks-markdown-jupyter-cheatsheet)__\n",
    "</div>\n"
   ]
  },
  {
   "cell_type": "code",
   "execution_count": 1,
   "id": "83ec2992",
   "metadata": {},
   "outputs": [
    {
     "name": "stdout",
     "output_type": "stream",
     "text": [
      "lksdj\n"
     ]
    }
   ],
   "source": [
    "print('lksdj')"
   ]
  },
  {
   "cell_type": "markdown",
   "id": "24ee4e57",
   "metadata": {
    "deletable": false
   },
   "source": [
    "<div class = \"alert alert-block alert-success\">\n",
    "\n",
    "\n",
    "## Problem 1 (10pts)\n",
    "Create a markdown cell below this one which contains an enumerated list of your top three favorite songs. Your output should look similar to the enumerated list I created in the cell above.  Provide links for each song to the youtube video for the song (if available). Hint: use the markdown I've written in the cell above to help you.\n",
    "\n",
    "</div>\n",
    "    "
   ]
  },
  {
   "cell_type": "markdown",
   "id": "5680aa0f",
   "metadata": {
    "deletable": false
   },
   "source": [
    "<div class = \"alert alert-block alert-info\">\n",
    "\n",
    "#### Code cells\n",
    "Code cells run code.  Specifically, python code.  You can tell that a cell is code cell if it has the `In [ ]:` to the left.  Python code can be run by using 'Shift-Enter' or 'Ctrl-Enter' as usual.  \n",
    "    \n",
    "</div>"
   ]
  },
  {
   "cell_type": "markdown",
   "id": "759afcef",
   "metadata": {
    "deletable": false
   },
   "source": [
    "<div class = \"alert alert-block alert-success\">\n",
    "\n",
    "## Problem 2 (3pts)\n",
    "Create a code cell directly below this cell.  Place the following code in the code cell, and run it:\n",
    "```\n",
    "print('Hello World!')\n",
    "```\n",
    "</div>"
   ]
  },
  {
   "cell_type": "markdown",
   "id": "9478b257",
   "metadata": {
    "deletable": false
   },
   "source": [
    "<div class = \"alert alert-block alert-success\">\n",
    "\n",
    "## Problem 3 (5pts)\n",
    "Create a code cell directly below this cell.  Run python code to print your name.\n",
    "    \n",
    "</div>"
   ]
  },
  {
   "cell_type": "markdown",
   "id": "6892d95a",
   "metadata": {
    "deletable": false
   },
   "source": [
    "<div class = \"alert alert-block alert-info\">\n",
    "    \n",
    "## Saving your work\n",
    "By default, jupyter notebooks are saved on your hard drive as .ipynb files.  You can rename the notebook by double clicking the title at the top. You can save your work, close your jupyter notebook, then reopen using the `File` menu in the upper left.  Note if you close then re-open a notebook that has code in it, then you must re-run the code to obtain the outputs.\n",
    "    \n",
    "</div>"
   ]
  },
  {
   "cell_type": "markdown",
   "id": "04f02c6f",
   "metadata": {
    "deletable": false
   },
   "source": [
    "<div class = \"alert alert-block alert-info\">\n",
    "    \n",
    "## Python, numpy and sympy\n",
    "\n",
    "**Python** is a very popular, still developing, programming language.  To give python the ability to work with well in diverse fields, specialized banks of code called *libraries* have been created.  Two such libraries we will use in this class are **numpy** (which stands for numerical python) and **sympy** (which stands for symbolic python). \n",
    "\n",
    "To load these, we run the following commands in a code cell:\n",
    "```\n",
    "import numpy as np\n",
    "import sympy as sp\n",
    "```\n",
    "</div>"
   ]
  },
  {
   "cell_type": "markdown",
   "id": "d1b6317c",
   "metadata": {
    "deletable": false,
    "editable": false
   },
   "source": [
    "## Problem 4 (3 pt)\n",
    "Highlight the two lines of code in the above cell with your mouse.  \n",
    "- Press 'CTRL-C' on your keyboard to copy the text to your computer's clipboard.  \n",
    "- Create a code cell below this cell.\n",
    "- Inside the code cell, press 'CTRL-V' to copy the contents of your clipboard in the code cell.\n",
    "- Run the code cell."
   ]
  },
  {
   "cell_type": "markdown",
   "id": "2ca6f757",
   "metadata": {
    "deletable": false,
    "editable": false
   },
   "source": [
    "## Numpy\n",
    "The basic objects we'll work with in this class are **matrices**.  Here is an example of a matrix $A$ with three rows and four columns: \n",
    "\n",
    "$$A = \\begin{bmatrix} 3 & 2 & 1 & 1 \\\\ 1 & -1 & 1 & 2 \\\\ 5 & 5 & -1 & 0 \\end{bmatrix}$$\n",
    "\n",
    "Numpy is very good at working numerically with matrices.  Let's enter this matrix as a numpy object called an **array**."
   ]
  },
  {
   "cell_type": "markdown",
   "id": "dbd886c1",
   "metadata": {
    "deletable": false,
    "editable": false
   },
   "source": [
    "## Problem 5 (3 pt) \n",
    "Create a code cell below this cell and run the following code:\n",
    "```\n",
    "A = np.array([[3, 2, 1, 1], [1, -1, 1, 2], [5, 5, -1, 0]])\n",
    "A\n",
    "```\n",
    "Notice that the first line creates the numpy array and saves it to the variable `A`. The second line displays the contents of `A`."
   ]
  },
  {
   "cell_type": "markdown",
   "id": "823b4635",
   "metadata": {
    "deletable": false,
    "editable": false
   },
   "source": [
    "## Problem 6 (5 pt)\n",
    "Create a code cell below.  In it, create a matrix which has 3 rows and 2 columns and save it to the variable `B`.  Display the contents of `B`"
   ]
  },
  {
   "cell_type": "markdown",
   "id": "71ec6aca",
   "metadata": {
    "deletable": false,
    "editable": false
   },
   "source": [
    "## Problem 7 (12 pt)\n",
    "Now we have a matrix A.  Create four code cells below this one.  In each one run the following commands:\n",
    "1. `A.shape`\n",
    "2. `A.size`\n",
    "3. `A + A`\n",
    "4. `A < 1`"
   ]
  },
  {
   "cell_type": "markdown",
   "id": "eeedb18d",
   "metadata": {
    "deletable": false,
    "editable": false
   },
   "source": [
    "## Problem 8 (12 pt)\n",
    "Create a markdown cell below this one.  Create an enumerated list with four items.  In each, explain to me in your own words what you think each of the four commands in Problem 7 is doing."
   ]
  },
  {
   "cell_type": "markdown",
   "id": "94fa6032",
   "metadata": {
    "deletable": false,
    "editable": false
   },
   "source": [
    "## Solving Linear Systems with Sympy\n",
    "So we currently have a numpy object A which contains the following matrix:\n",
    "$$A = \\begin{bmatrix} 3 & 2 & 1 & 1 \\\\ 1 & -1 & 1 & 2 \\\\ 5 & 5 & -1 & 0 \\end{bmatrix}$$\n",
    "In fact, this matrix corresponds to the linear system of equations:\n",
    "$$\\begin{align} 3x + 2y + z &= 1 \\\\ x - y + z &= 2 \\\\ 5x + 5y - z &= 0\\end{align}$$"
   ]
  },
  {
   "cell_type": "markdown",
   "id": "c1386f74",
   "metadata": {
    "deletable": false,
    "editable": false
   },
   "source": [
    "## Problem 9 (12 pt)\n",
    "Create a code cell below.  Create a numpy object `C` which contains a matrix corresponding to the following linear system of equations:\n",
    "$$ \\begin{align} 2x - y - z + w &= 4 \\\\ x + y + z &= -1 \\end{align}$$"
   ]
  },
  {
   "cell_type": "markdown",
   "id": "1b4889d0",
   "metadata": {
    "deletable": false,
    "editable": false
   },
   "source": [
    "If we want to solve the linear system corresponding to `A`, we can run use sympy to use elementary row operations to put the matrix in **row-reduced echelon form** by running the following commands:\n",
    "```\n",
    "A_rref = sp.Matrix(A).rref()\n",
    "A_rref\n",
    "```"
   ]
  },
  {
   "cell_type": "markdown",
   "id": "439e9a12",
   "metadata": {
    "deletable": false
   },
   "source": [
    "## Problem 10 (10 pt)\n",
    "What is the solution set to the linear system corresponding to $A$?"
   ]
  },
  {
   "cell_type": "markdown",
   "id": "ed6fe22a",
   "metadata": {
    "deletable": false,
    "editable": false
   },
   "source": [
    "## Problem 11 (10 pt)\n",
    "\n",
    "What is the solution set of the linear system corresponding to $C$?"
   ]
  },
  {
   "cell_type": "markdown",
   "id": "8cd2fec6",
   "metadata": {
    "deletable": false,
    "editable": false
   },
   "source": [
    "## Problem 12 (15 pts)\n",
    "Create a code cell below.  In it, create a numpy object `Z` which contains a matrix with 3 rows and 4 columns. Show, using python, that this matrix corresponds to a linear system which has no solutions."
   ]
  }
 ],
 "metadata": {
  "celltoolbar": "Edit Metadata",
  "kernelspec": {
   "display_name": "Python 3",
   "language": "python",
   "name": "python3"
  },
  "language_info": {
   "codemirror_mode": {
    "name": "ipython",
    "version": 3
   },
   "file_extension": ".py",
   "mimetype": "text/x-python",
   "name": "python",
   "nbconvert_exporter": "python",
   "pygments_lexer": "ipython3",
   "version": "3.8.8"
  }
 },
 "nbformat": 4,
 "nbformat_minor": 5
}
