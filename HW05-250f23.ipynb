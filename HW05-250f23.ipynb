{
 "cells": [
  {
   "cell_type": "markdown",
   "id": "5f08c895",
   "metadata": {
    "deletable": false,
    "editable": false
   },
   "source": [
    "# Homework 5\n",
    "\n",
    "In this notebook, we will learn about\n",
    "\n",
    "- inverses of matrices.\n",
    "- bases (sing. basis) of vector spaces.\n",
    "- representing vectors with respect to a basis."
   ]
  },
  {
   "cell_type": "markdown",
   "id": "1549a9b0",
   "metadata": {
    "deletable": false,
    "editable": false
   },
   "source": [
    "## Inverses of matrices\n",
    "\n",
    "**Definition:** Given an $n \\times n$ square matrix $A$, the **inverse matrix**, if it exists, is another matrix $A^{-1}$ of the same dimensions with the property that:\n",
    "$$AA^{-1} = I_n \\hspace{.2in} A^{-1}A = I_n$$\n",
    "A matrix for which the inverse matrix exists is said to be **invertible**.\n",
    "\n",
    "**Example:** The matrix $ A = \\begin{bmatrix} 2 & 1 \\\\ 1 & 1 \\end{bmatrix}$ is invertible and its inverse is $A^{-1} = \\begin{bmatrix} 1 & -1 \\\\ -1 & 2 \\end{bmatrix} $.\n",
    "\n"
   ]
  },
  {
   "cell_type": "markdown",
   "id": "a58a6dc8",
   "metadata": {
    "deletable": false,
    "editable": false
   },
   "source": [
    "## Problem 1 (5 points)\n",
    "\n",
    "Verify the above example.  That is, show that the given matrix really is an inverse of $A$ by computing $A^{-1}A$."
   ]
  },
  {
   "cell_type": "markdown",
   "id": "b02b4807",
   "metadata": {
    "deletable": false,
    "editable": false
   },
   "source": [
    "## Problem 2 (10 points)\n",
    "\n",
    "Suppose $\\mathrm{diag}(a_1, a_2, \\dots, a_n)$ is the matrix with $a_1, a_2, \\dots a_n$ along the main diagonal and zeros elsewhere:\n",
    "$$\\mathrm{diag}(a_1, a_2, \\dots, a_n) = \\begin{bmatrix} a_1 & 0 & \\dots & 0 \\\\ 0 & a_2 & \\dots & 0 \\\\ \\vdots & \\vdots & \\ddots & \\vdots \\\\ 0 & 0 & \\dots & a_n \\end{bmatrix} $$  Show that this matrix is invertible if $a_1, a_2, \\dots, a_n$ are all non-zero.  Describe the inverse matrix.\n"
   ]
  },
  {
   "cell_type": "markdown",
   "id": "25a4cc1c",
   "metadata": {
    "deletable": false,
    "editable": false
   },
   "source": [
    "## Problem 3 (10 points)\n",
    "\n",
    "Show that a $2 \\times 2$ matrix $A = \\begin{bmatrix} a & b \\\\ c & d \\end{bmatrix}$ is invertible if $ad - bc \\neq 0$.  In this case, the inverse matrix is:\n",
    "$$A^{-1} = \\dfrac{1}{ad - bc} \\begin{bmatrix} d & -b \\\\ -c & a \\end{bmatrix}$$\n",
    "You can show this by explicitly computing the product $A^{-1}A$ and showing it is the identity matrix.\n",
    "\n",
    "**Comment:** In fact, the converse of this statement is also true.  That is, if $ad - bc \\neq 0$, then the given matrix is invertible, and its inverse is given by the formula.  This number $ad - bc$ is called the **determinant** of the matrix, as it determines whether the matrix has an inverse or not.\n"
   ]
  },
  {
   "cell_type": "markdown",
   "id": "d166e7dd",
   "metadata": {
    "deletable": false,
    "editable": false
   },
   "source": [
    "## Problem 4 (10 points) \n",
    "\n",
    "Prove that if $A$ and $B$ are both $n\\times n$ invertible matrices, then $AB$ is also invertible and $(AB)^{-1} = B^{-1}A^{-1}$."
   ]
  },
  {
   "cell_type": "markdown",
   "id": "09479381",
   "metadata": {
    "deletable": false,
    "editable": false
   },
   "source": [
    "## Problem 5 (10 points)\n",
    "\n",
    "Is the sum of two invertible matrices of the same size also invertible?  If so, prove it. If not, provide a coounter-example."
   ]
  },
  {
   "cell_type": "markdown",
   "id": "4fd22777",
   "metadata": {
    "deletable": false,
    "editable": false
   },
   "source": [
    "### Non-singular if and only if invertible\n",
    "\n",
    "**Theorem:** A matrix is inverible if and only if it is non-singular.\n",
    "\n",
    "### How to compute the inverse of an invertible matrix by hand\n",
    "\n",
    "1. Assemble the block matrix $[ A | I_n ] $.\n",
    "2. Compute the row reduced echelon form of this block matrix.  Because $A$ is invertible, we know that its rref is $I_n$.  \n",
    "3. Therefore, the left side of the rref of $[ A | I_n] $ is $I_n$.  The right side is $A^{-1}$.  That is, the rref ends up being $[I_n | A^{-1}]$. \n",
    "\n",
    "### How to use numpy to compute inverses\n",
    "\n",
    "If you have a square matrix $A$ which is invertible, then you can use numpy to compute the inverse by:\n",
    "\n",
    "```\n",
    "np.linalg.inv(A)   #computes the inverse of A\n",
    "```\n",
    "\n",
    "\n",
    "### Why do we care about inverses?\n",
    "\n",
    "At the start of this course, we were concerned about solutions to linear systems of the form $A\\vec{x} = \\vec{b}$.\n",
    "Notice that if $A$ has an inverse $A^{-1}$, then we can multiply both sides of this equation by $A^{-1}$.  Observe:\n",
    "$$\\begin{align} A \\vec{x} &= \\vec{b} \\\\ \n",
    "A^{-1} A \\vec{x} &= A^{-1} \\vec{b} \\\\  \n",
    "I_n \\vec{x} &= A^{-1} \\vec{b} \\\\\n",
    "\\vec{x} &= A^{-1} \\vec{b} \n",
    "\\end{align} $$\n",
    "\n"
   ]
  },
  {
   "cell_type": "markdown",
   "id": "18e2558e",
   "metadata": {
    "deletable": false,
    "editable": false
   },
   "source": [
    "## Problem 5 (10 points)\n",
    "\n",
    "(a.) Use numpy to compute $A^{-1}$ where $A$ is the matrix:\n",
    "$$A = \\begin{bmatrix} -1 & 2 & 1 & 1 \\\\ -3 & 6 & 0 & 3 \\\\ -2 & 0 & -1 & -1 \\\\ 0 & 1 & 1 & 1 \\end{bmatrix}$$\n",
    "\n",
    "\n",
    "(b.) Use numpy to solve the system $A\\vec{x} = \\vec{b}$ where $A$ is the matrix above and $\\vec{b}$ is the vector:\n",
    "$$\\vec{b} = \\begin{bmatrix} 3 \\\\ 15 \\\\ -6 \\\\ 9 \\end{bmatrix} $$\n"
   ]
  },
  {
   "cell_type": "markdown",
   "id": "1b2960b6",
   "metadata": {
    "deletable": false,
    "editable": false
   },
   "source": [
    "## Bases of vector spaces\n",
    "\n",
    "**Definition:** A **basis** $B$ of a vector space $V$ is an ordered collection of vectors in $V$ which is:\n",
    "1. linearly independent (if a linear combination of vectors in $B$ is equal to the zero vector, then all the coefficients of the linear combination are 0).\n",
    "2. a spanning set ($\\mathrm{Span}(B) = V$).\n",
    "\n",
    "**Theorem:** $B$ is a basis of $V$ if and only if every vector in $V$ can be expressed as a linear combination of elements of $B$ in exactly one way.\n",
    "\n",
    "**Theorem:** $B = \\{ \\vec{v_1}, \\vec{v_2}, \\dots, \\vec{v_n} \\} \\subset \\mathbb{R}^n$ is a basis of $\\mathbb{R}^n$ if and only if the matrix $A$ formed by using the vectors in $B$ as columns:\n",
    "$$A = \\begin{bmatrix} \\vec{v_1} \\, | \\,  \\vec{v_2} \\,| \\, \\dots \\, | \\, \\vec{v_n} \\end{bmatrix} $$\n",
    "is non-singular.\n",
    "\n",
    "\n",
    "**Definition:** The **standard basis** of $\\mathbb{R}^n$ is the ordered set:\n",
    "$$\\mathcal{E} = \\left\\{ \\hspace{.2in} \\vec{e_1} = \\begin{bmatrix} 1 \\\\ 0 \\\\ \\vdots \\\\ 0 \\end{bmatrix}, \\vec{e_2} = \\begin{bmatrix} 0 \\\\ 1 \\\\ \\vdots \\\\ 0 \\end{bmatrix}, \\dots, \\vec{e_n} = \\begin{bmatrix} 0 \\\\ 0 \\\\ \\vdots \\\\ 1 \\end{bmatrix} \\hspace{.2in} \\right\\} $$\n",
    "\n",
    "To be clear about what is meant by \"ordered\" here, note that the ordered set:\n",
    "$$\\mathcal{E}' = \\left\\{ \\hspace{.2in} \\vec{e_2} = \\begin{bmatrix} 0 \\\\ 1 \\\\ \\vdots \\\\ 0 \\end{bmatrix}, \\vec{e_1} = \\begin{bmatrix} 1 \\\\ 0 \\\\ \\vdots \\\\ 0 \\end{bmatrix}, \\dots, \\vec{e_n} = \\begin{bmatrix} 0 \\\\ 0 \\\\ \\vdots \\\\ 1 \\end{bmatrix} \\hspace{.2in} \\right\\} $$\n",
    "is considered to be a different basis than $\\mathcal{E}$, since the order of the vectors within the set is different.\n",
    "\n"
   ]
  },
  {
   "cell_type": "markdown",
   "id": "89c64e7c",
   "metadata": {
    "deletable": false,
    "editable": false
   },
   "source": [
    "## Example \n",
    "\n",
    "Let's show that the set of vectors $$\\mathcal{C} = \\left\\{ \\hspace{.2in} \\begin{bmatrix} 1 \\\\ 0 \\\\ 0 \\end{bmatrix}, \\begin{bmatrix} 1 \\\\ 1 \\\\ 0 \\end{bmatrix}, \\begin{bmatrix} 1 \\\\ 1 \\\\ 1 \\end{bmatrix} \\hspace{.2in} \\right\\}$$ \n",
    "is a basis for $\\mathbb{R}^3$. And let's do this directly from the definition of a basis.  That is, let's show that $\\mathcal{C}$ is an ordered collection of vectors which are linearly independent and span $\\mathbb{R}^3$. \n",
    "\n",
    "In this example, we will make use of the matrix $A$ obtained by using the vectors in $\\mathcal{C}$ as columns:\n",
    "$$A = \\begin{bmatrix} 1  & 1 & 1 \\\\ 0 & 1 & 1 \\\\ 0 & 0 & 1 \\end{bmatrix} $$\n",
    "\n",
    "---\n",
    "\n",
    "\n",
    "### Recall: \n",
    "\n",
    "If we consider a column vector $\\vec{x} = \\begin{bmatrix} x_1 \\\\ x_2 \\\\ \\vdots \\\\ x_n \\end{bmatrix}$, then $A\\vec{x}$ is the linear combination of columns of $A$:\n",
    "$$A \\vec{x} = x_1 \\vec{v_1} + x_2 \\vec{v_2} + \\dots + x_n \\vec{v_n}$$\n",
    "----\n",
    "\n",
    "Let us now show that $\\mathcal{C}$ is a basis.  We will do this by showing that $\\mathcal{C}$ is both \n",
    "1. linearly independent and \n",
    "2. a spanning set of $\\mathbb{R}^3$.\n",
    "\n",
    "To show that $\\mathcal{C}$ is linearly independent, suppose that we have a linear combination of vectors in $\\mathcal{C}$ equal to the zero vector $\\vec{0}$:\n",
    "\n",
    "$$x_1 \\begin{bmatrix} 1\\\\0\\\\0 \\end{bmatrix} + x_2 \\begin{bmatrix} 1\\\\1\\\\0 \\end{bmatrix} + x_3 \\begin{bmatrix} 1\\\\1\\\\1 \\end{bmatrix} = \\begin{bmatrix} 0\\\\0\\\\0 \\end{bmatrix} $$\n",
    "\n",
    "Notice that the left hand side of this equation can be written as $A \\vec{x}$ where $A$ is the matrix above.  Therefore, we are trying to find the solutions to $A\\vec{x} = \\vec{0}$.  That is, we're trying to find the nullspace of $A$.\n",
    "\n",
    "We can use numpy to compute the row reduced echelon form of $A$.  Let's denote it $A_{\\text{rref}}$ \n",
    "```\n",
    "A = np.array([[1, 1, 1], [0, 1, 1], [0, 0, 1]]) \n",
    "A_rref = sp.Matrix(A).rref()\n",
    "```\n",
    "If we run the above code, and then display `A_rref`, we obtain as output from python: \n",
    "```\n",
    "(Matrix([\n",
    " [1, 0, 0],\n",
    " [0, 1, 0],\n",
    " [0, 0, 1]]),\n",
    " (0, 1, 2))\n",
    " ```\n",
    "In other words, the row reduced echelon form of $A$ is the identity matrix!\n",
    "This tells us that $A$ is non-singular, which tells us that the only solution to the equation $A \\vec{x} = \\vec{0}$ is the trivial solution.  This tells us that any linear combination of the columns of $A$ which gives us the zero vector, must be the trivial one in which all the coefficients are 0.  And this tells us that the columns of A are linearly independent."
   ]
  },
  {
   "cell_type": "markdown",
   "id": "de3550b6",
   "metadata": {
    "deletable": false,
    "editable": false
   },
   "source": [
    "## Problem 6 (10 points) \n",
    "\n",
    "Show that $\\mathcal{C}$ is a spanning set of $\\mathbb{R}^3$. Give your response in complete sentences.  "
   ]
  },
  {
   "cell_type": "markdown",
   "id": "94864936",
   "metadata": {},
   "source": [
    "## Problem 7 (15 points)\n",
    "\n",
    "Give an example of a basis for each of the following vector spaces.  \n",
    "\n",
    "(a.) $M_{2 \\times 3}$ is the vector space of $2 \\times 3$ matrices with real coefficients.\n",
    "\n",
    "(b.) Let $X \\subset M_{3 \\times 3}$ be the subspace of **symmetric matrices**  These are matrices $S$ where the $ij$ entry is equal to the $ji$ entry for all $i$ and $j$.  Another way to say this is that $S = S^T$, where $S^T$ denotes the transpose of $S$.  This is a vector space.\n",
    "\n",
    "(c.) Let $Y \\subset M_{3 \\times 3}$ be the subspace of **skew-symmetric matrices**.  These are matrices $S$ where the $ij$ entry is equal to the negative of the $ji$ entry for all $i$ and $j$.  Another way to say this is that $S = -S^T$.  This is a vector space."
   ]
  },
  {
   "cell_type": "markdown",
   "id": "affc3d01",
   "metadata": {
    "deletable": false,
    "editable": false
   },
   "source": [
    "## Representation of vectors with respect to a basis $\\mathcal{B}$\n",
    "\n",
    "**Definition:** Suppose that $\\mathcal{B} = \\{\\vec{b_1}, \\vec{b_2}, \\dots, \\vec{b_n}\\}$ is a basis of the vector space $V$. Then a vector $\\vec{v} \\in V$ can be expressed as a linear combination of the vectors in $\\mathcal{B}$ in exactly one way:\n",
    "$$\\vec{v} = \\sum_{i = 1}^n a_i \\vec{b_i} = a_1\\vec{b_1} + a_2\\vec{b_2} + \\dots + a_n \\vec{b_n}$$\n",
    "Then we define the **representation of $\\vec{v}$ with respect to $\\mathcal{B}$** to be the column vector in $\\mathbb{R}^n$:\n",
    "$$ \\mathrm{Rep}_{\\mathcal{B}}(\\vec{v}) = \\begin{bmatrix} a_1 \\\\ a_2 \\\\ \\vdots \\\\ a_n \\end{bmatrix}$$\n",
    "\n",
    "Notice that $\\mathrm{Rep}_{\\mathcal{B}}$ is a function which takes vectors in $V$ and maps them to vectors in $\\mathbb{R}^n$.  We denote this state of affairs:\n",
    "$$\\mathrm{Rep}_{\\mathcal{B}}: V \\to \\mathbb{R}^n$$"
   ]
  },
  {
   "cell_type": "markdown",
   "id": "5b175c73",
   "metadata": {
    "deletable": false,
    "editable": false
   },
   "source": [
    "## Problem 8 (10 points)\n",
    "\n",
    "(a.) Show that for all $\\vec{v}, \\vec{w} \\in V$: \n",
    "$$\\mathrm{Rep}_\\mathcal{B}( \\vec{v} + \\vec{w} ) = \\mathrm{Rep}_\\mathcal{B}( \\vec{v}) + \\mathrm{Rep}_\\mathcal{B}(\\vec{w} )$$\n",
    "A function which satisfies this sort of condition is said to **respect vector additon**, or alternatively, is **additive**.\n",
    "\n",
    "\n",
    "(b.) Show that for all $\\vec{v} \\in V$ and all $r \\in \\mathbb{R}$:\n",
    "$$\\mathrm{Rep}_\\mathcal{B}( r \\cdot \\vec{v}) = r \\cdot \\mathrm{Rep}_\\mathcal{B}( \\vec{v})  $$\n",
    "A function which satisfies this sort of condition is said to **respect scalar multiplication**.\n",
    "\n"
   ]
  },
  {
   "cell_type": "markdown",
   "id": "7939d143",
   "metadata": {
    "deletable": false,
    "editable": false
   },
   "source": [
    "## Problem 9 (10 points)\n",
    "\n",
    "Consider the following collection of vectors in $\\mathbb{R}^4$:\n",
    "$$\\mathcal{B} = \\left\\{ \\hspace{.2in} \\begin{bmatrix} -1 \\\\ -3 \\\\ -2 \\\\ 0 \\end{bmatrix}, \\begin{bmatrix} 2 \\\\ 6 \\\\ 0 \\\\ 1 \\end{bmatrix} , \\begin{bmatrix} 1 \\\\ 0 \\\\ -1 \\\\ 1 \\end{bmatrix}, \\begin{bmatrix} 1 \\\\ 3 \\\\ -1 \\\\ 1 \\end{bmatrix} \\hspace{.2in} \\right\\}$$\n",
    "\n",
    "(a.) Show that $\\mathcal{B}$ is a basis of $\\mathbb{R}^4$.\n",
    "\n",
    "(b.) Compute $\\mathrm{Rep}_\\mathcal{B} \\left( \\hspace{.1in}  \\begin{bmatrix} 3 \\\\ 15 \\\\ -6 \\\\ 9 \\end{bmatrix} \\hspace{.1in} \\right)$. \n",
    "\n"
   ]
  },
  {
   "cell_type": "code",
   "execution_count": 4,
   "id": "73c79251",
   "metadata": {},
   "outputs": [
    {
     "data": {
      "text/plain": [
       "array([[ -9.],\n",
       "       [-15.],\n",
       "       [ -2.],\n",
       "       [ 26.]])"
      ]
     },
     "execution_count": 4,
     "metadata": {},
     "output_type": "execute_result"
    }
   ],
   "source": [
    "import numpy as np\n",
    "B  = np.array([[-1, 2, 1, 1], [-3, 6, 0 , 3], [-2, 0, -1, -1], [0, 1, 1, 1]])\n",
    "np.matmul(np.linalg.inv(B), np.array([[3], [15], [-6], [9]]))"
   ]
  }
 ],
 "metadata": {
  "celltoolbar": "Edit Metadata",
  "kernelspec": {
   "display_name": "Python 3",
   "language": "python",
   "name": "python3"
  },
  "language_info": {
   "codemirror_mode": {
    "name": "ipython",
    "version": 3
   },
   "file_extension": ".py",
   "mimetype": "text/x-python",
   "name": "python",
   "nbconvert_exporter": "python",
   "pygments_lexer": "ipython3",
   "version": "3.8.8"
  }
 },
 "nbformat": 4,
 "nbformat_minor": 5
}
