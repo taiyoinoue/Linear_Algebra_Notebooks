{
 "cells": [
  {
   "cell_type": "markdown",
   "id": "34e02356",
   "metadata": {
    "deletable": false,
    "editable": false
   },
   "source": [
    "# Homework 3\n",
    "\n",
    "## Matrix Arithmetic and Computational Cost\n",
    "\n",
    "In this notebook, we are going to study matrix arithmetic and various operations we can do to matrices.\n",
    "\n",
    "We are going to learn about \n",
    "- Block matrices and their arithmetic.\n",
    "- Computation cost of matrix addition and matrix multiplication.\n",
    "- Comparing numpy's matrix multiplication with the standard algorithm."
   ]
  },
  {
   "cell_type": "markdown",
   "id": "7fbfe0bf",
   "metadata": {
    "deletable": false,
    "editable": false
   },
   "source": [
    "## Problem 1 (6 points)\n",
    "\n",
    "(a.) Start by importing numpy.\n",
    "\n",
    "(b.) We will use the following matrices in the next few problems:\n",
    "\n",
    "$$A = \\begin{bmatrix} 1 & 2 \\\\ 3 & 2 \\end{bmatrix} B = \\begin{bmatrix} 0 & -1 \\\\ -2 & 1 \\end{bmatrix} C = \\begin{bmatrix} 3 & 0 \\\\ 1 & -1 \\end{bmatrix} D = \\begin{bmatrix} 2 & 1 \\\\ 0 & 0 \\end{bmatrix} $$\n",
    "Input these objects as numpy objects.\n",
    "\n",
    "(c.) One of these four matrices is clearly singular.  Which one?  Why?  "
   ]
  },
  {
   "cell_type": "markdown",
   "id": "25b36487",
   "metadata": {
    "deletable": false,
    "editable": false
   },
   "source": [
    "## Block matrices\n",
    "Sometimes it is convenient to think of matrices in terms of blocks.  For instance, if you have a $4 \\times 4$ matrix $X$, you might think of it as four $2 \\times 2$ matrices $X_{11}, X_{12}, X_{21}, X_{22}$:\n",
    "$$X = \\begin{bmatrix} X_{11} & X_{12} \\\\ X_{21} & X_{22} \\end{bmatrix} $$\n",
    "\n",
    "We call the $X_{ij}$ **blocks**, and call $X$ a **block matrix**.\n",
    "\n",
    "Or you could think of a $3 \\times 6$ matrix $Y$ as being two $3 \\times 3$ blocks $Y_1, Y_2$ next to one another:\n",
    "\n",
    "$$Y = \\begin{bmatrix} Y_1 & Y_2 \\end{bmatrix}$$\n",
    "\n",
    "Or you could think of a $5 \\times 5$ matrix $Z$ as being made up of four blocks: \n",
    "\n",
    "- $Z_{11}$, a $2 \\times 2$ block in the upper left, \n",
    "- $Z_{12}$, a $2 \\times 3$ block in the upper right,\n",
    "- $Z_{21}$, a $3 \\times 2$ block in the lower left,\n",
    "- $Z_{22}$, a $3 \\times 3$ block in the lower right.\n",
    "$$ Z = \\begin{bmatrix} Z_{11} & Z_{12} \\\\ Z_{21} & Z_{22} \\end{bmatrix}$$\n",
    "\n",
    "### np.block()\n",
    "You can use numpy to build block matrices using `np.block()`.  For instance, suppose we wish to build a $4 \\times 4$ block matrix $X$ with $A$ as in Problem 1 in the upper left, $D$ in the lower right, and zeros elsewhere. Then we can do:\n",
    "\n",
    "`X = np.block([[ A, np.zeros([2, 2])], [np.zeros([2,2]), D]])`\n",
    "\n",
    "Then, if we examine $X$ by running the command `X`, we obtain the output: \n",
    "\n",
    "```\n",
    "array([[1., 2., 0., 0.],\n",
    "       [3., 2., 0., 0.],\n",
    "       [0., 0., 2., 1.],\n",
    "       [0., 0., 0., 0.]])\n",
    "```       "
   ]
  },
  {
   "cell_type": "markdown",
   "id": "ebe09e9f",
   "metadata": {
    "deletable": false,
    "editable": false
   },
   "source": [
    "## Problem 2 (14 points)\n",
    "\n",
    "(a.) Construct the following block matrices using `np.block()`.\n",
    "\n",
    "- $X$ is the $2 \\times 4$ block matrix with $A$ on the left, and $B$ on the right:\n",
    "  $ X = \\begin{bmatrix} A & B \\end{bmatrix} $\n",
    "  \n",
    "- $Y$ is the $4 \\times 2$ block matrix with $C$ on top, and $D$ on the bottom: $Y = \\begin{bmatrix} C \\\\ D \\end{bmatrix} $\n",
    "\n",
    "- $Z$ is the $4 \\times 4$ block matrix: $Z = \\begin{bmatrix} A & B \\\\ C & D \\end{bmatrix}$.\n",
    "\n",
    "(b.) Compute the matrix $XY$.\n",
    "\n",
    "(c.) Compute the matrix $AC + BD$\n",
    "\n",
    "(d.) What do you notice?\n",
    "\n",
    "(e.) Compute the matrix $ZY$.\n",
    "\n",
    "(f.) Compute the matrix $C^2 + D^2$.\n",
    "\n",
    "(g.) Look at the results of (c.), (e.) and (f.).  What do you notice?"
   ]
  },
  {
   "cell_type": "markdown",
   "id": "c2311b14",
   "metadata": {
    "deletable": false,
    "editable": false
   },
   "source": [
    "## Problem 3 (5 points)\n",
    "\n",
    "What do you predict $Z^2$ will look like?"
   ]
  },
  {
   "cell_type": "markdown",
   "id": "235a23e2",
   "metadata": {
    "deletable": false,
    "editable": false
   },
   "source": [
    "## Problem 4 (5 points)\n",
    "\n",
    "Verify the prediction you made in problem 3."
   ]
  },
  {
   "cell_type": "markdown",
   "id": "8d11be4a",
   "metadata": {
    "deletable": false,
    "editable": false
   },
   "source": [
    "## Computational costs\n",
    "Computation is always a finite resource.  As such, it is important to understand the computational costs associated with operations that we carry out with our computers.  Furthermore, some algorithms, though they can be proven to solve a problem, may be so computationally expensive that running the algorithm to completion would take longer than the time before the heat death of the universe is expected to occur!  \n",
    "\n",
    "(**An aside:** This idea is what lies at the heart of cryptography.  There are certain types of problems which are very computationally expensive for computers to solve, but for which proposed solutions are easy to verify.  For instance, suppose you have the product $pq$ of two very large prime numbers $p$ and $q$.  If you are handed two numbers, it is easy to verify that $pq$ is $p$ times $q$ -- even for very very large integers multiplication is pretty fast.  However, finding $p$ and $q$, given only $pq$ is very difficult -- for some large numbers, though we have known algorithms for factoring any number, the expected runtime of such an algorithm might take longer than the expected time until heat death of the universe.  This observation lies at the heart of some cryptographic protocols such as RSA encryption).\n",
    "\n",
    "Let's investigate the computational costs associated with arithmetic operations on matrices.  To do this, we are going to use the `time` package in python. We can use the functions in `time` to see how long various processes take in python.  The longer a process takes, the more computational cost we associate with the process.\n",
    "\n",
    "### Computational Cost of Matrix Addition\n",
    "\n",
    "To assess how long matrix addition takes, I am going to define a function which will create two random $n \\times n$ matrices, then time how long it takes to add them:\n",
    "\n",
    "```\n",
    "import time\n",
    "\n",
    "def time_to_add(n):\n",
    "    A = np.random.rand(n,n)\n",
    "    B = np.random.rand(n,n)\n",
    "    start_time = time.time()\n",
    "    A + B\n",
    "    end_time = time.time()\n",
    "    return end_time - start_time\n",
    "```\n",
    "There is plenty of random variation which can affect the computational cost of a single instance of `time_to_add(n)`, so I will reduce this variation by taking the average of a large number of instances of `time_to_add(n)`.  For this, I will arbitrarily choose $n = 100$ -- this means that the matrices we will be generating will have $10,000$ entries.\n",
    "\n",
    "```\n",
    "def average_time_to_add(k):\n",
    "    total_time = 0\n",
    "    for i in range(k):\n",
    "        total_time = total_time + time_to_add(100)\n",
    "    return total_time/k \n",
    "```        \n",
    "The input $k$ here is the number of times we run time_to_add().  On my machine, `time_to_add(10000)` returns `2.123236656188965e-06` which means that adding two random $100 \\times 100$ matrices takes about 2 millionths of a second."
   ]
  },
  {
   "cell_type": "markdown",
   "id": "a1c40eaa",
   "metadata": {
    "deletable": false,
    "editable": false
   },
   "source": [
    "## Problem 5 (5 points)\n",
    "\n",
    "Copy the code above to define `time_to_add()` and `average_time_to_add()` in your notebook.  Don't forget to `import time`.  Run `average_time_to_add(10000)` on your machine.  You will probably obtain different results from my own.  Why is this?"
   ]
  },
  {
   "cell_type": "markdown",
   "id": "fb3f3025",
   "metadata": {
    "deletable": false,
    "editable": false
   },
   "source": [
    "## Problem 6 (20 points)\n",
    "\n",
    "Let's study the computational costs of matrix multiplication.  Write two functions.  Call them `time_to_mult()` and `average_time_to_mult()` (use $n = 100$ for `average_time_to_mult()`).  Run `average_time_to_mult(10000)`."
   ]
  },
  {
   "cell_type": "markdown",
   "id": "f81c2cf6",
   "metadata": {
    "deletable": false,
    "editable": false
   },
   "source": [
    "## Problem 7 (5 points)\n",
    "\n",
    "What is the ratio of `average_time_to_mult(10000)` to `average_time_to_add(10000)` on your machine?  For me, this ratio is about 18. What does this number mean?"
   ]
  },
  {
   "cell_type": "markdown",
   "id": "1439a510",
   "metadata": {
    "deletable": false,
    "editable": false
   },
   "source": [
    "## Writing your own matrix multiplication algorithm\n",
    "\n",
    "I want you to try writing your own matrix multiplication algorithm to see how it compares with `np.matmul()`.  For this, you may find yourself needing to use **nested for loops** to iterate over all the entries of a matrix.  \n",
    "\n",
    "To demonstrate nested for loops, let me give you an example of a function which sums the entries of matrix:\n",
    "\n",
    "```\n",
    "def sum_entries(array):\n",
    "    sum = 0               \n",
    "    rows = array.shape[0] \n",
    "    cols = array.shape[1] \n",
    "    for i in range(rows):\n",
    "        for j in range(cols):\n",
    "            sum = sum + array[i, j]\n",
    "    return sum\n",
    "```\n",
    "Note the for loops in this code.  There are two of them: the one for which `i` is ranging over the row indices might be referred to as the **outer** for loop, while the one for which `j` is ranging over the column indices might be referred to as the **inner** for loop.  \n",
    "\n",
    "To understand what's happening here, let's talk about for loops in a bit more detail.\n",
    "\n",
    "- The line `rows = array.shape[0]` assigns to the object `rows` the number of rows of the input.  \n",
    "- Note that `rows` is a positive integer.  \n",
    "- `range(rows)` is a list.  It is the list `(0, 1, 2, ... , rows - 1)`.  Note that the number of elements in this list is `rows`.\n",
    "- Here `i` is iterating over the list `range(rows)`.  It starts out with the value `0`, runs the code within the for loop one time.  When it is done running the code within the for loop, `i` is advanced to the next value in the list `range(rows)`, namely `1`.  Then the code in the for loop is run again.  \n",
    "- This process terminates when `i` reaches the end of the list.  Therefore, the code in the outer for loop will have run `rows` times.\n",
    "- Note that for each value of `i`, the inner for loop iterates `j` over the list `range(cols)` which is the list `(0, 1, 2, ... , cols - 1)`.\n",
    "- The sequence of entries of `array` that get added to the variable `sum` goes like this:\n",
    "\n",
    "`(0,0), (0,1), (0, 2), ... , (0, cols-1), (1,0), (1,1), (1, 2) ..., (1, cols-1), ... , (rows-1, 0), (rows-1 , 1), ... (rows-1, cols-1)`"
   ]
  },
  {
   "cell_type": "markdown",
   "id": "7a8a0218",
   "metadata": {
    "deletable": false,
    "editable": false
   },
   "source": [
    "## Problem 8 (25 points)\n",
    "\n",
    "Write a function `mult()` which takes two matrices $X$ and $Y$ as input.  If the number of columns of $X$ is not the same as the number of rows of $Y$, print an error message.  Otherwise, `mult(X,Y)` should output the product of $X$ and $Y$.\n",
    "\n",
    "- Do not simply use an already built matrix multiplication function.  I want you to build `mult()` using for loops and the entries of $X$ and $Y$ to show you really understand how matrix multiplication works.\n",
    "- The standard algorithm I have in mind uses three for loops, all nested."
   ]
  },
  {
   "cell_type": "code",
   "execution_count": 2,
   "id": "37f0d883",
   "metadata": {},
   "outputs": [],
   "source": [
    "def mult(X, Y):\n",
    "    rowsX = X.shape[0]\n",
    "    colsX = X.shape[1]\n",
    "    rowsY = Y.shape[0]\n",
    "    colsY = Y.shape[1]\n",
    "    if colsX != rowsY:\n",
    "        print('oops. this matrix multiplication does NOT MAKE SENSE!')\n",
    "        return False\n",
    "    result = np.random.rand([rowsX, colsY])\n",
    "    ????!?@?!?!?@?!@?!?#!@?#!@?#!?\n",
    "    \n",
    "    "
   ]
  },
  {
   "cell_type": "code",
   "execution_count": 1,
   "id": "9263712f",
   "metadata": {},
   "outputs": [
    {
     "data": {
      "text/plain": [
       "array([0., 0., 0.])"
      ]
     },
     "execution_count": 1,
     "metadata": {},
     "output_type": "execute_result"
    }
   ],
   "source": [
    "import numpy as np\n",
    "Z = np.zeros([2,3])\n",
    "Z[0]"
   ]
  },
  {
   "cell_type": "code",
   "execution_count": null,
   "id": "47610d1a",
   "metadata": {},
   "outputs": [],
   "source": []
  },
  {
   "cell_type": "code",
   "execution_count": 10,
   "id": "c1b66672",
   "metadata": {},
   "outputs": [
    {
     "name": "stdout",
     "output_type": "stream",
     "text": [
      "0.0006289482116699219\n",
      "0.00025916099548339844\n",
      "0.000141143798828125\n",
      "0.0001881122589111328\n",
      "0.00020647048950195312\n",
      "0.00014519691467285156\n",
      "0.00011706352233886719\n",
      "0.0001494884490966797\n",
      "4.38690185546875e-05\n",
      "5.793571472167969e-05\n",
      "5.459785461425781e-05\n",
      "4.4345855712890625e-05\n",
      "0.0020110607147216797\n",
      "4.4345855712890625e-05\n",
      "4.315376281738281e-05\n",
      "4.291534423828125e-05\n",
      "4.38690185546875e-05\n",
      "4.267692565917969e-05\n",
      "4.482269287109375e-05\n",
      "4.100799560546875e-05\n",
      "4.38690185546875e-05\n",
      "4.38690185546875e-05\n",
      "6.365776062011719e-05\n",
      "4.2438507080078125e-05\n",
      "4.220008850097656e-05\n",
      "4.4345855712890625e-05\n",
      "4.482269287109375e-05\n",
      "4.4345855712890625e-05\n",
      "0.00020241737365722656\n",
      "4.4345855712890625e-05\n",
      "4.267692565917969e-05\n",
      "4.458427429199219e-05\n",
      "4.291534423828125e-05\n",
      "4.38690185546875e-05\n",
      "0.0002803802490234375\n",
      "4.4345855712890625e-05\n",
      "4.38690185546875e-05\n",
      "4.2438507080078125e-05\n",
      "4.315376281738281e-05\n",
      "4.315376281738281e-05\n",
      "4.458427429199219e-05\n",
      "4.363059997558594e-05\n",
      "4.38690185546875e-05\n",
      "4.458427429199219e-05\n",
      "4.363059997558594e-05\n",
      "4.38690185546875e-05\n",
      "4.482269287109375e-05\n",
      "4.363059997558594e-05\n",
      "4.267692565917969e-05\n",
      "4.3392181396484375e-05\n",
      "4.315376281738281e-05\n",
      "4.1961669921875e-05\n",
      "4.291534423828125e-05\n",
      "4.1961669921875e-05\n",
      "4.2438507080078125e-05\n",
      "4.291534423828125e-05\n",
      "4.38690185546875e-05\n",
      "4.291534423828125e-05\n",
      "4.57763671875e-05\n",
      "4.458427429199219e-05\n",
      "4.38690185546875e-05\n",
      "4.38690185546875e-05\n",
      "6.318092346191406e-05\n",
      "4.1484832763671875e-05\n",
      "4.2438507080078125e-05\n",
      "9.250640869140625e-05\n",
      "4.220008850097656e-05\n",
      "4.38690185546875e-05\n",
      "0.00012230873107910156\n",
      "4.2438507080078125e-05\n",
      "4.315376281738281e-05\n",
      "4.315376281738281e-05\n",
      "4.172325134277344e-05\n",
      "4.2438507080078125e-05\n",
      "4.3392181396484375e-05\n",
      "4.410743713378906e-05\n",
      "4.315376281738281e-05\n",
      "4.3392181396484375e-05\n",
      "4.2438507080078125e-05\n",
      "4.3392181396484375e-05\n",
      "4.315376281738281e-05\n",
      "4.267692565917969e-05\n",
      "4.220008850097656e-05\n",
      "4.291534423828125e-05\n",
      "4.1961669921875e-05\n",
      "4.1961669921875e-05\n",
      "4.1961669921875e-05\n",
      "4.291534423828125e-05\n",
      "0.0008134841918945312\n",
      "4.3392181396484375e-05\n",
      "4.172325134277344e-05\n",
      "4.315376281738281e-05\n",
      "4.220008850097656e-05\n",
      "4.1961669921875e-05\n",
      "4.1484832763671875e-05\n",
      "4.267692565917969e-05\n",
      "4.291534423828125e-05\n",
      "4.2438507080078125e-05\n",
      "4.1961669921875e-05\n",
      "4.2438507080078125e-05\n"
     ]
    }
   ],
   "source": [
    "import time \n",
    "import numpy as np\n",
    "\n",
    "for k in range(100):\n",
    "    X = np.random.rand(100,100)\n",
    "    Y = np.random.rand(100,100)\n",
    "    start_time = time.time()\n",
    "    np.matmul(X,Y)\n",
    "    end_time = time.time()\n",
    "    print(end_time - start_time)\n",
    "    \n",
    "    \n",
    "\n"
   ]
  },
  {
   "cell_type": "code",
   "execution_count": 90,
   "id": "70a23539",
   "metadata": {},
   "outputs": [
    {
     "data": {
      "text/plain": [
       "-9.999999999999924e-11"
      ]
     },
     "execution_count": 90,
     "metadata": {},
     "output_type": "execute_result"
    }
   ],
   "source": [
    "x = 4.2e-09  - 4.3e-09\n",
    "x"
   ]
  },
  {
   "cell_type": "markdown",
   "id": "5799cf1c",
   "metadata": {
    "deletable": false,
    "editable": false
   },
   "source": [
    "## Problem 9 (15 points)\n",
    "\n",
    "How does your `mult()` function compare with numpy's `np.matmul()` command?  To test this, write a function `compare(n, k)` which takes as input two positive integers $n$ and $k$.  It will do the following:\n",
    "\n",
    "- creates a variable `total` initialized to 0.\n",
    "- create a for loop set to loop `k` times.\n",
    "- creates two random, $n \\times n$ matrices $X$ and $Y$, \n",
    "- times the execution of your function `mult(X,Y)` and stores the time in `time_mult`,  \n",
    "- times the execution of `np.matmul(X,Y)` and stores the time in `time_matmul`, \n",
    "- adds the ratio `time_mult/time_matmul` to `total`.\n",
    "- close the for loop\n",
    "- return the average value of the ratio `total/k`\n",
    "\n",
    "Once you've created this function, run `compare(100, 100)`.  What does your result imply?"
   ]
  },
  {
   "cell_type": "code",
   "execution_count": null,
   "id": "11712216",
   "metadata": {},
   "outputs": [],
   "source": []
  }
 ],
 "metadata": {
  "celltoolbar": "Edit Metadata",
  "kernelspec": {
   "display_name": "Python 3",
   "language": "python",
   "name": "python3"
  },
  "language_info": {
   "codemirror_mode": {
    "name": "ipython",
    "version": 3
   },
   "file_extension": ".py",
   "mimetype": "text/x-python",
   "name": "python",
   "nbconvert_exporter": "python",
   "pygments_lexer": "ipython3",
   "version": "3.8.8"
  }
 },
 "nbformat": 4,
 "nbformat_minor": 5
}
